{
 "cells": [
  {
   "cell_type": "code",
   "execution_count": null,
   "metadata": {},
   "outputs": [],
   "source": [
    "#這個程式碼是我用ChatGpt\n",
    "import pandas as pd\n",
    "import openpyxl\n",
    "\n",
    "# 設定銷售額度、毛利率等資料\n",
    "sales_target = 1000000  # 新年度的銷售額度 (假設為100萬)\n",
    "gross_margin_rate = 0.3  # 毛利率 (假設為30%)\n",
    "\n",
    "# 計算每季的銷售額度與毛利\n",
    "quarters = ['Q1', 'Q2', 'Q3', 'Q4']\n",
    "quarter_sales_target = sales_target / 4  # 每季的銷售額度 (平均分配)\n",
    "quarter_gross_profit = quarter_sales_target * gross_margin_rate  # 每季的毛利\n",
    "\n",
    "# 構建 DataFrame\n",
    "data = {\n",
    "    'Quarter': quarters,\n",
    "    'Sales Target': [quarter_sales_target] * 4,\n",
    "    'Gross Profit': [quarter_gross_profit] * 4,\n",
    "    'Gross Margin Rate': [gross_margin_rate] * 4\n",
    "}\n",
    "\n",
    "df = pd.DataFrame(data)\n",
    "\n",
    "# 將結果轉換為 Excel 檔案\n",
    "output_file = 'sales_target_and_profit.xlsx'\n",
    "df.to_excel(output_file, index=False)\n",
    "\n",
    "print(f\"Excel 檔案已儲存為 {output_file}\")\n"
   ]
  }
 ],
 "metadata": {
  "kernelspec": {
   "display_name": "Python 3",
   "language": "python",
   "name": "python3"
  },
  "language_info": {
   "name": "python",
   "version": "3.10.16"
  }
 },
 "nbformat": 4,
 "nbformat_minor": 2
}
