{
 "cells": [
  {
   "cell_type": "code",
   "execution_count": 7,
   "metadata": {},
   "outputs": [
    {
     "data": {
      "text/html": [
       "<div>\n",
       "<style scoped>\n",
       "    .dataframe tbody tr th:only-of-type {\n",
       "        vertical-align: middle;\n",
       "    }\n",
       "\n",
       "    .dataframe tbody tr th {\n",
       "        vertical-align: top;\n",
       "    }\n",
       "\n",
       "    .dataframe thead th {\n",
       "        text-align: right;\n",
       "    }\n",
       "</style>\n",
       "<table border=\"1\" class=\"dataframe\">\n",
       "  <thead>\n",
       "    <tr style=\"text-align: right;\">\n",
       "      <th></th>\n",
       "      <th>Quarter</th>\n",
       "      <th>Sales Target</th>\n",
       "      <th>Gross Profit</th>\n",
       "      <th>Gross Margin Rate</th>\n",
       "    </tr>\n",
       "  </thead>\n",
       "  <tbody>\n",
       "    <tr>\n",
       "      <th>0</th>\n",
       "      <td>Q1</td>\n",
       "      <td>250000.0</td>\n",
       "      <td>75000.0</td>\n",
       "      <td>0.3</td>\n",
       "    </tr>\n",
       "    <tr>\n",
       "      <th>1</th>\n",
       "      <td>Q2</td>\n",
       "      <td>250000.0</td>\n",
       "      <td>75000.0</td>\n",
       "      <td>0.3</td>\n",
       "    </tr>\n",
       "    <tr>\n",
       "      <th>2</th>\n",
       "      <td>Q3</td>\n",
       "      <td>250000.0</td>\n",
       "      <td>75000.0</td>\n",
       "      <td>0.3</td>\n",
       "    </tr>\n",
       "    <tr>\n",
       "      <th>3</th>\n",
       "      <td>Q4</td>\n",
       "      <td>250000.0</td>\n",
       "      <td>75000.0</td>\n",
       "      <td>0.3</td>\n",
       "    </tr>\n",
       "  </tbody>\n",
       "</table>\n",
       "</div>"
      ],
      "text/plain": [
       "  Quarter  Sales Target  Gross Profit  Gross Margin Rate\n",
       "0      Q1      250000.0       75000.0                0.3\n",
       "1      Q2      250000.0       75000.0                0.3\n",
       "2      Q3      250000.0       75000.0                0.3\n",
       "3      Q4      250000.0       75000.0                0.3"
      ]
     },
     "execution_count": 7,
     "metadata": {},
     "output_type": "execute_result"
    }
   ],
   "source": [
    "import pandas as pd\n",
    "import openpyxl\n",
    "# 設定銷售額度、毛利率等資料\n",
    "sales_target = 1000000  # 新年度的銷售額度 (假設為100萬)\n",
    "gross_margin_rate = 0.3  # 毛利率 (假設為30%)\n",
    "\n",
    "# 計算每季的銷售額度與毛利\n",
    "quarters = ['Q1', 'Q2', 'Q3', 'Q4']\n",
    "quarter_sales_target = sales_target / 4  # 每季的銷售額度 (平均分配)\n",
    "quarter_gross_profit = quarter_sales_target * gross_margin_rate  # 每季的毛利\n",
    "\n",
    "# 構建 DataFrame\n",
    "data = {\n",
    "    'Quarter': quarters,\n",
    "    'Sales Target': [quarter_sales_target] * 4,\n",
    "    'Gross Profit': [quarter_gross_profit] * 4,\n",
    "    'Gross Margin Rate': [gross_margin_rate] * 4\n",
    "}\n",
    "\n",
    "df = pd.DataFrame(data)\n",
    "\n",
    "df"
   ]
  },
  {
   "cell_type": "code",
   "execution_count": null,
   "metadata": {},
   "outputs": [],
   "source": [
    "# 將結果轉換為 Excel 檔案\n",
    "output_file = 'sales_target_and_profit.xlsx'\n",
    "df.to_excel(output_file, index=False)\n",
    "\n",
    "print(f\"Excel 檔案已儲存為 {output_file}\")"
   ]
  }
 ],
 "metadata": {
  "kernelspec": {
   "display_name": "Python 3",
   "language": "python",
   "name": "python3"
  },
  "language_info": {
   "codemirror_mode": {
    "name": "ipython",
    "version": 3
   },
   "file_extension": ".py",
   "mimetype": "text/x-python",
   "name": "python",
   "nbconvert_exporter": "python",
   "pygments_lexer": "ipython3",
   "version": "3.10.16"
  }
 },
 "nbformat": 4,
 "nbformat_minor": 2
}
